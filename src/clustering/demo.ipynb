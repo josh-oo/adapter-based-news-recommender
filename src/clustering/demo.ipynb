{
 "cells": [
  {
   "cell_type": "code",
   "execution_count": 1,
   "metadata": {
    "collapsed": true,
    "ExecuteTime": {
     "end_time": "2023-05-30T10:06:56.425061416Z",
     "start_time": "2023-05-30T10:06:56.085700176Z"
    }
   },
   "outputs": [],
   "source": [
    "import numpy as np\n",
    "\n",
    "from src.clustering.KMeansWrapper import KMeansWrapper\n",
    "embedding_path = \"../../data/MINDsmall_train/entity_embedding.vec\"\n",
    "test_path = \"../../data/MINDsmall_dev/entity_embedding.vec\""
   ]
  },
  {
   "cell_type": "markdown",
   "source": [
    "## Load embeddings"
   ],
   "metadata": {
    "collapsed": false
   }
  },
  {
   "cell_type": "code",
   "execution_count": 2,
   "outputs": [
    {
     "data": {
      "text/plain": "array([[-0.063388, -0.181451,  0.057501, ..., -0.101157, -0.091567,\n         0.035234],\n       [ 0.060958,  0.069934,  0.015832, ..., -0.133727,  0.025795,\n         0.051448],\n       [-0.093106, -0.052002,  0.020556, ..., -0.144866,  0.04469 ,\n         0.013498],\n       ...,\n       [ 0.034682, -0.009413, -0.024317, ...,  0.00411 ,  0.013771,\n        -0.008027],\n       [-0.052323, -0.078029, -0.060925, ...,  0.043236,  0.032251,\n        -0.001261],\n       [-0.00519 , -0.047871,  0.009753, ...,  0.024246, -0.040823,\n        -0.008903]])"
     },
     "execution_count": 2,
     "metadata": {},
     "output_type": "execute_result"
    }
   ],
   "source": [
    "import pandas as pd\n",
    "entity_embedding = pd.read_table(embedding_path, header=None)\n",
    "# entity_embedding['vector'] = entity_embedding.iloc[:, 1:101].values.tolist()\n",
    "# entity_embedding = entity_embedding[[0,'vector']].rename(columns={0: \"entity\"})\n",
    "vectors = entity_embedding.iloc[:, 1:101].values\n",
    "vectors"
   ],
   "metadata": {
    "collapsed": false,
    "ExecuteTime": {
     "end_time": "2023-05-30T10:06:56.810911277Z",
     "start_time": "2023-05-30T10:06:56.428630952Z"
    }
   }
  },
  {
   "cell_type": "markdown",
   "source": [
    "## Train clustering model and find represantant"
   ],
   "metadata": {
    "collapsed": false
   }
  },
  {
   "cell_type": "code",
   "execution_count": 3,
   "outputs": [],
   "source": [
    "kmeans_model = KMeansWrapper()\n",
    "kmeans_model.train(vectors)\n",
    "kmeans_model.extract_representations() # return tuple (clusterid, location)"
   ],
   "metadata": {
    "collapsed": false,
    "ExecuteTime": {
     "end_time": "2023-05-30T10:06:56.946197062Z",
     "start_time": "2023-05-30T10:06:56.815443492Z"
    }
   }
  },
  {
   "cell_type": "markdown",
   "source": [
    "## Predict user cluster"
   ],
   "metadata": {
    "collapsed": false
   }
  },
  {
   "cell_type": "code",
   "execution_count": 4,
   "outputs": [],
   "source": [
    "import pandas as pd\n",
    "test_embedding = pd.read_table(test_path, header=None)\n",
    "test_vectors = test_embedding.iloc[:, 1:101].values"
   ],
   "metadata": {
    "collapsed": false,
    "ExecuteTime": {
     "end_time": "2023-05-30T10:06:57.159699976Z",
     "start_time": "2023-05-30T10:06:56.949711984Z"
    }
   }
  },
  {
   "cell_type": "code",
   "execution_count": 5,
   "outputs": [
    {
     "name": "stdout",
     "output_type": "stream",
     "text": [
      "You are labeled as cluster 2\n",
      "Your representant lies at [ 0.01486199  0.01371666  0.02562781  0.00365942 -0.02649633  0.00594536\n",
      "  0.00340398  0.02430887 -0.0258613   0.0221435   0.0267743   0.0431899\n",
      "  0.02423247 -0.00587488 -0.02078651 -0.01407465 -0.00443984 -0.01534354\n",
      " -0.03647151 -0.00640599 -0.04103385  0.00996752 -0.00876664  0.01176151\n",
      "  0.02054307  0.01865038 -0.01510767 -0.00678739 -0.02256598  0.02943914\n",
      "  0.00178737  0.00828318  0.00204737 -0.03084607  0.00363643 -0.03205378\n",
      " -0.0161689  -0.04892306  0.01987074  0.02955026 -0.00241167  0.00733279\n",
      "  0.00827331  0.03353018  0.01879699 -0.04061238  0.02285283  0.04149151\n",
      " -0.02525314  0.02818177  0.01884214 -0.01010471  0.02284043  0.02365362\n",
      " -0.00668074  0.00172341  0.00618795 -0.0201387  -0.01207575 -0.01180714\n",
      " -0.02032126  0.03899155 -0.01407062  0.01746062  0.00683282 -0.02418404\n",
      " -0.02855626 -0.03549846 -0.00555335 -0.02550854 -0.03820352 -0.01752376\n",
      "  0.026943    0.03193428 -0.02786438 -0.01444948 -0.01561734 -0.00660702\n",
      "  0.00755683  0.01323134  0.0098255   0.01537971 -0.02062505  0.02170857\n",
      "  0.00507933 -0.01535705 -0.00733241 -0.02227914  0.02502552 -0.0296995\n",
      " -0.00998973 -0.00257508 -0.01934268 -0.03281439  0.02775477 -0.0442379\n",
      "  0.02678818 -0.02658182 -0.01036303  0.02493776]\n"
     ]
    }
   ],
   "source": [
    "prediction = kmeans_model.predict(test_vectors[0])\n",
    "print(f\"You are labeled as cluster {prediction[0]}\")\n",
    "\n",
    "cluster_representant = kmeans_model.interpret(prediction)\n",
    "print(f\"Your representant lies at {cluster_representant}\")"
   ],
   "metadata": {
    "collapsed": false,
    "ExecuteTime": {
     "end_time": "2023-05-30T10:06:57.168246051Z",
     "start_time": "2023-05-30T10:06:57.162752345Z"
    }
   }
  },
  {
   "cell_type": "markdown",
   "source": [
    "## Suggest alternative"
   ],
   "metadata": {
    "collapsed": false
   }
  },
  {
   "cell_type": "code",
   "execution_count": 6,
   "outputs": [
    {
     "name": "stdout",
     "output_type": "stream",
     "text": [
      "Would you like to see a user from 3\n"
     ]
    }
   ],
   "source": [
    "user_suggestion = kmeans_model.suggest(cluster_representant)\n",
    "print(f\"Would you like to see a user from {user_suggestion}\")\n"
   ],
   "metadata": {
    "collapsed": false,
    "ExecuteTime": {
     "end_time": "2023-05-30T10:06:57.215741909Z",
     "start_time": "2023-05-30T10:06:57.168658877Z"
    }
   }
  }
 ],
 "metadata": {
  "kernelspec": {
   "display_name": "Python 3",
   "language": "python",
   "name": "python3"
  },
  "language_info": {
   "codemirror_mode": {
    "name": "ipython",
    "version": 2
   },
   "file_extension": ".py",
   "mimetype": "text/x-python",
   "name": "python",
   "nbconvert_exporter": "python",
   "pygments_lexer": "ipython2",
   "version": "2.7.6"
  }
 },
 "nbformat": 4,
 "nbformat_minor": 0
}
